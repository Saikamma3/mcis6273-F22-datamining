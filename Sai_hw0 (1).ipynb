{
 "cells": [
  {
   "cell_type": "code",
   "execution_count": null,
   "metadata": {},
   "outputs": [],
   "source": []
  },
  {
   "cell_type": "markdown",
   "metadata": {},
   "source": [
    "### Assignment Zero\n",
    "### Zotera UserID : Saikamma3\n",
    "### Zotera Registered Email ID : Saikamma3@gmail.com"
   ]
  },
  {
   "cell_type": "markdown",
   "metadata": {},
   "source": [
    "#### Q.1  List 3 things that you learned from this podcast?\n",
    "\n",
    "Overall the Podcast Talk Python was so much informative. These are the list of things I have learnt from the podcast :\n",
    "\n",
    "- Adam emphsised over Jupuyter notebook, github and importance of python in Data world. I was happily shocked to know that 96% of the notebooks on github are in python langyage\n",
    "\n",
    "- The one thing I learnt via this podcast is the vast applications of data science in almost every filed. Adam's work on cognitive psychology is attention seeker in my opinion. Art of making a program that will make the simulation of a brain thinking found attractive to me\n",
    "\n",
    "- One more thing I realised in this podcast is  that the github has been a great open source of knowledge and needs to be explored as much as possible."
   ]
  },
  {
   "cell_type": "markdown",
   "metadata": {},
   "source": [
    "### Q. 2 What is your reaction to the podcast? Pick at least one point Adam brought up in the interview that you agree with and list your reason why? \n",
    "\n",
    "Adam's Podcast was very helpful to get started with data mining this semester. Thanks to our professor for introducing it to us. looking forward for many such good podcasts in future as well.\n",
    "\n",
    "I agree to the point when Adam said Github has become open source of notebooks. I feel jupyter has made it so easy to understand others codes, get learnings from them and utilise them for our respective purposes. Getting to know that most of the work is being done in python language was satisfying. "
   ]
  },
  {
   "cell_type": "markdown",
   "metadata": {},
   "source": [
    "### Q. 3  After listening to the podcast , do you think you are more interested or less interested in learning from Jupyter notebooks on Github?\n",
    "\n",
    "    After listening to the podcast I feel atmost exited to get started with data mining. This github world has so many hidden gems and I feel data mining learnings will help us to find such gems and get knowledge from these notebooks. The jupyter notebook provides a facility of cell by cell exection, which makes life easy for debugging the code. Exited !"
   ]
  },
  {
   "cell_type": "code",
   "execution_count": null,
   "metadata": {},
   "outputs": [],
   "source": []
  },
  {
   "cell_type": "code",
   "execution_count": null,
   "metadata": {},
   "outputs": [],
   "source": []
  }
 ],
 "metadata": {
  "kernelspec": {
   "display_name": "Python 3.10.5 64-bit",
   "language": "python",
   "name": "python3"
  },
  "language_info": {
   "codemirror_mode": {
    "name": "ipython",
    "version": 3
   },
   "file_extension": ".py",
   "mimetype": "text/x-python",
   "name": "python",
   "nbconvert_exporter": "python",
   "pygments_lexer": "ipython3",
   "version": "3.10.5"
  },
  "vscode": {
   "interpreter": {
    "hash": "aee8b7b246df8f9039afb4144a1f6fd8d2ca17a180786b69acc140d282b71a49"
   }
  }
 },
 "nbformat": 4,
 "nbformat_minor": 2
}
